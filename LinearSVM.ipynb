{
 "cells": [
  {
   "cell_type": "markdown",
   "metadata": {},
   "source": [
    "Linear SVM over diabetic dataset\n"
   ]
  },
  {
   "cell_type": "code",
   "execution_count": 1,
   "metadata": {},
   "outputs": [],
   "source": [
    "# importing required libraries\n",
    "import numpy as np #nd-arrays\n",
    "import pandas as pd #read data from datasources\n",
    "from sklearn.preprocessing import LabelEncoder #Encode numerical varible into categorical variables\n",
    "from sklearn.preprocessing import StandardScaler #Standardize the data using mean and std\n",
    "from sklearn.model_selection import train_test_split #split the data into train and test\n",
    "from sklearn.metrics import accuracy_score,confusion_matrix #evaluate a model\n",
    "from sklearn.svm import LinearSVC, SVC #develop svm based clssification models\n",
    "from sklearn.model_selection import GridSearchCV #tune the hyperparamters\n",
    "from sklearn.metrics import average_precision_score, make_scorer, recall_score #design custom scoring functions"
   ]
  },
  {
   "cell_type": "code",
   "execution_count": 13,
   "metadata": {},
   "outputs": [
    {
     "name": "stdout",
     "output_type": "stream",
     "text": [
      "<class 'pandas.core.frame.DataFrame'>\n",
      "RangeIndex: 2703 entries, 0 to 2702\n",
      "Data columns (total 9 columns):\n",
      " #   Column    Non-Null Count  Dtype  \n",
      "---  ------    --------------  -----  \n",
      " 0   GENDER    2703 non-null   int64  \n",
      " 1   AGE       2703 non-null   int64  \n",
      " 2   Height    2703 non-null   int64  \n",
      " 3   Weight    2703 non-null   float64\n",
      " 4   BMI       2703 non-null   float64\n",
      " 5   BAI       2703 non-null   float64\n",
      " 6   HBA1C1    2703 non-null   float64\n",
      " 7   OGTT1FBS  2703 non-null   int64  \n",
      " 8   NDD       2703 non-null   int64  \n",
      "dtypes: float64(4), int64(5)\n",
      "memory usage: 190.1 KB\n"
     ]
    }
   ],
   "source": [
    "#Reading the data into dataframe\n",
    "diabetes_df=pd.read_excel('data_file.xlsx')\n",
    "diabetes_df.info()"
   ]
  },
  {
   "cell_type": "code",
   "execution_count": 4,
   "metadata": {},
   "outputs": [
    {
     "name": "stdout",
     "output_type": "stream",
     "text": [
      "(1065, 9)\n"
     ]
    }
   ],
   "source": [
    "#work on the copy of the dataset\n",
    "clean_df=diabetes_df.copy()\n",
    "#Pruning the data\n",
    "clean_df.drop_duplicates(keep = 'first',inplace=True)\n",
    "print(clean_df.shape)"
   ]
  },
  {
   "cell_type": "code",
   "execution_count": 9,
   "metadata": {},
   "outputs": [
    {
     "data": {
      "text/html": [
       "<div>\n",
       "<style scoped>\n",
       "    .dataframe tbody tr th:only-of-type {\n",
       "        vertical-align: middle;\n",
       "    }\n",
       "\n",
       "    .dataframe tbody tr th {\n",
       "        vertical-align: top;\n",
       "    }\n",
       "\n",
       "    .dataframe thead th {\n",
       "        text-align: right;\n",
       "    }\n",
       "</style>\n",
       "<table border=\"1\" class=\"dataframe\">\n",
       "  <thead>\n",
       "    <tr style=\"text-align: right;\">\n",
       "      <th></th>\n",
       "      <th>GENDER</th>\n",
       "      <th>AGE</th>\n",
       "      <th>Height</th>\n",
       "      <th>Weight</th>\n",
       "      <th>BMI</th>\n",
       "      <th>BAI</th>\n",
       "      <th>HBA1C1</th>\n",
       "      <th>OGTT1FBS</th>\n",
       "      <th>NDD</th>\n",
       "    </tr>\n",
       "  </thead>\n",
       "  <tbody>\n",
       "    <tr>\n",
       "      <th>0</th>\n",
       "      <td>1</td>\n",
       "      <td>37</td>\n",
       "      <td>156</td>\n",
       "      <td>88.0</td>\n",
       "      <td>36.160421</td>\n",
       "      <td>41.53</td>\n",
       "      <td>5.1</td>\n",
       "      <td>102</td>\n",
       "      <td>0</td>\n",
       "    </tr>\n",
       "    <tr>\n",
       "      <th>1</th>\n",
       "      <td>0</td>\n",
       "      <td>35</td>\n",
       "      <td>146</td>\n",
       "      <td>56.0</td>\n",
       "      <td>26.271345</td>\n",
       "      <td>34.15</td>\n",
       "      <td>5.0</td>\n",
       "      <td>91</td>\n",
       "      <td>0</td>\n",
       "    </tr>\n",
       "    <tr>\n",
       "      <th>2</th>\n",
       "      <td>1</td>\n",
       "      <td>54</td>\n",
       "      <td>160</td>\n",
       "      <td>76.0</td>\n",
       "      <td>29.687500</td>\n",
       "      <td>28.45</td>\n",
       "      <td>5.4</td>\n",
       "      <td>73</td>\n",
       "      <td>0</td>\n",
       "    </tr>\n",
       "    <tr>\n",
       "      <th>3</th>\n",
       "      <td>0</td>\n",
       "      <td>46</td>\n",
       "      <td>154</td>\n",
       "      <td>64.0</td>\n",
       "      <td>26.986001</td>\n",
       "      <td>33.28</td>\n",
       "      <td>6.0</td>\n",
       "      <td>151</td>\n",
       "      <td>0</td>\n",
       "    </tr>\n",
       "    <tr>\n",
       "      <th>4</th>\n",
       "      <td>0</td>\n",
       "      <td>70</td>\n",
       "      <td>156</td>\n",
       "      <td>55.0</td>\n",
       "      <td>22.600263</td>\n",
       "      <td>21.52</td>\n",
       "      <td>5.6</td>\n",
       "      <td>142</td>\n",
       "      <td>0</td>\n",
       "    </tr>\n",
       "  </tbody>\n",
       "</table>\n",
       "</div>"
      ],
      "text/plain": [
       "   GENDER  AGE  Height  Weight        BMI    BAI  HBA1C1  OGTT1FBS  NDD\n",
       "0       1   37     156    88.0  36.160421  41.53     5.1       102    0\n",
       "1       0   35     146    56.0  26.271345  34.15     5.0        91    0\n",
       "2       1   54     160    76.0  29.687500  28.45     5.4        73    0\n",
       "3       0   46     154    64.0  26.986001  33.28     6.0       151    0\n",
       "4       0   70     156    55.0  22.600263  21.52     5.6       142    0"
      ]
     },
     "execution_count": 9,
     "metadata": {},
     "output_type": "execute_result"
    }
   ],
   "source": [
    "clean_df.head()\n"
   ]
  },
  {
   "cell_type": "code",
   "execution_count": 10,
   "metadata": {},
   "outputs": [],
   "source": [
    "#Assigning labels with appropriate numerics\n",
    "nondia=0\n",
    "diabetic=1\n",
    "#create a dataframe and assign a column to indicate the diabetic status\n",
    "Ynew = pd.DataFrame(nondia, index=clean_df.index, columns=['diabetic'])\n",
    "#Identify the diabetic status of each record using the blood test results of FBS or HBA1C1\n",
    "Ynew.iloc[list(np.where((clean_df.OGTT1FBS>=126) | (clean_df.HBA1C1>=6.5))[0])]=diabetic\n",
    "#Concatenate the diabetic status with the anthroprometric features of the dataset\n",
    "data_df=pd.concat([clean_df.iloc[:,:6],Ynew],axis=1)\n"
   ]
  },
  {
   "cell_type": "code",
   "execution_count": 19,
   "metadata": {},
   "outputs": [
    {
     "data": {
      "text/html": [
       "<div>\n",
       "<style scoped>\n",
       "    .dataframe tbody tr th:only-of-type {\n",
       "        vertical-align: middle;\n",
       "    }\n",
       "\n",
       "    .dataframe tbody tr th {\n",
       "        vertical-align: top;\n",
       "    }\n",
       "\n",
       "    .dataframe thead th {\n",
       "        text-align: right;\n",
       "    }\n",
       "</style>\n",
       "<table border=\"1\" class=\"dataframe\">\n",
       "  <thead>\n",
       "    <tr style=\"text-align: right;\">\n",
       "      <th></th>\n",
       "      <th>GENDER</th>\n",
       "      <th>AGE</th>\n",
       "      <th>Height</th>\n",
       "      <th>Weight</th>\n",
       "      <th>BMI</th>\n",
       "      <th>BAI</th>\n",
       "      <th>diabetic</th>\n",
       "    </tr>\n",
       "  </thead>\n",
       "  <tbody>\n",
       "    <tr>\n",
       "      <th>0</th>\n",
       "      <td>1</td>\n",
       "      <td>37</td>\n",
       "      <td>156</td>\n",
       "      <td>88.0</td>\n",
       "      <td>36.160421</td>\n",
       "      <td>41.53</td>\n",
       "      <td>0</td>\n",
       "    </tr>\n",
       "    <tr>\n",
       "      <th>1</th>\n",
       "      <td>0</td>\n",
       "      <td>35</td>\n",
       "      <td>146</td>\n",
       "      <td>56.0</td>\n",
       "      <td>26.271345</td>\n",
       "      <td>34.15</td>\n",
       "      <td>0</td>\n",
       "    </tr>\n",
       "    <tr>\n",
       "      <th>2</th>\n",
       "      <td>1</td>\n",
       "      <td>54</td>\n",
       "      <td>160</td>\n",
       "      <td>76.0</td>\n",
       "      <td>29.687500</td>\n",
       "      <td>28.45</td>\n",
       "      <td>0</td>\n",
       "    </tr>\n",
       "    <tr>\n",
       "      <th>3</th>\n",
       "      <td>0</td>\n",
       "      <td>46</td>\n",
       "      <td>154</td>\n",
       "      <td>64.0</td>\n",
       "      <td>26.986001</td>\n",
       "      <td>33.28</td>\n",
       "      <td>1</td>\n",
       "    </tr>\n",
       "    <tr>\n",
       "      <th>4</th>\n",
       "      <td>0</td>\n",
       "      <td>70</td>\n",
       "      <td>156</td>\n",
       "      <td>55.0</td>\n",
       "      <td>22.600263</td>\n",
       "      <td>21.52</td>\n",
       "      <td>1</td>\n",
       "    </tr>\n",
       "  </tbody>\n",
       "</table>\n",
       "</div>"
      ],
      "text/plain": [
       "   GENDER  AGE  Height  Weight        BMI    BAI  diabetic\n",
       "0       1   37     156    88.0  36.160421  41.53         0\n",
       "1       0   35     146    56.0  26.271345  34.15         0\n",
       "2       1   54     160    76.0  29.687500  28.45         0\n",
       "3       0   46     154    64.0  26.986001  33.28         1\n",
       "4       0   70     156    55.0  22.600263  21.52         1"
      ]
     },
     "execution_count": 19,
     "metadata": {},
     "output_type": "execute_result"
    }
   ],
   "source": [
    "data_df.head()\n"
   ]
  },
  {
   "cell_type": "code",
   "execution_count": 20,
   "metadata": {},
   "outputs": [],
   "source": [
    "#Find the diabetic and non-diabetic patients\n",
    "diabetic_yes=data_df.iloc[list(np.where(data_df.diabetic==diabetic)[0])]\n",
    "diabetic_no=data_df.iloc[list(np.where(data_df.diabetic==nondia)[0])]"
   ]
  },
  {
   "cell_type": "code",
   "execution_count": 23,
   "metadata": {},
   "outputs": [
    {
     "data": {
      "text/html": [
       "<div>\n",
       "<style scoped>\n",
       "    .dataframe tbody tr th:only-of-type {\n",
       "        vertical-align: middle;\n",
       "    }\n",
       "\n",
       "    .dataframe tbody tr th {\n",
       "        vertical-align: top;\n",
       "    }\n",
       "\n",
       "    .dataframe thead th {\n",
       "        text-align: right;\n",
       "    }\n",
       "</style>\n",
       "<table border=\"1\" class=\"dataframe\">\n",
       "  <thead>\n",
       "    <tr style=\"text-align: right;\">\n",
       "      <th></th>\n",
       "      <th>GENDER</th>\n",
       "      <th>AGE</th>\n",
       "      <th>Height</th>\n",
       "      <th>Weight</th>\n",
       "      <th>BMI</th>\n",
       "      <th>BAI</th>\n",
       "      <th>diabetic</th>\n",
       "    </tr>\n",
       "  </thead>\n",
       "  <tbody>\n",
       "    <tr>\n",
       "      <th>count</th>\n",
       "      <td>537.000000</td>\n",
       "      <td>537.000000</td>\n",
       "      <td>537.000000</td>\n",
       "      <td>537.000000</td>\n",
       "      <td>537.000000</td>\n",
       "      <td>537.000000</td>\n",
       "      <td>537.0</td>\n",
       "    </tr>\n",
       "    <tr>\n",
       "      <th>mean</th>\n",
       "      <td>0.450652</td>\n",
       "      <td>44.463687</td>\n",
       "      <td>158.217877</td>\n",
       "      <td>68.325885</td>\n",
       "      <td>27.261189</td>\n",
       "      <td>31.687058</td>\n",
       "      <td>0.0</td>\n",
       "    </tr>\n",
       "    <tr>\n",
       "      <th>std</th>\n",
       "      <td>0.498023</td>\n",
       "      <td>11.890164</td>\n",
       "      <td>7.930377</td>\n",
       "      <td>13.118822</td>\n",
       "      <td>4.770046</td>\n",
       "      <td>8.276824</td>\n",
       "      <td>0.0</td>\n",
       "    </tr>\n",
       "    <tr>\n",
       "      <th>min</th>\n",
       "      <td>0.000000</td>\n",
       "      <td>20.000000</td>\n",
       "      <td>139.000000</td>\n",
       "      <td>33.500000</td>\n",
       "      <td>13.671875</td>\n",
       "      <td>14.080000</td>\n",
       "      <td>0.0</td>\n",
       "    </tr>\n",
       "    <tr>\n",
       "      <th>25%</th>\n",
       "      <td>0.000000</td>\n",
       "      <td>35.000000</td>\n",
       "      <td>153.000000</td>\n",
       "      <td>61.000000</td>\n",
       "      <td>24.508946</td>\n",
       "      <td>25.650000</td>\n",
       "      <td>0.0</td>\n",
       "    </tr>\n",
       "    <tr>\n",
       "      <th>50%</th>\n",
       "      <td>0.000000</td>\n",
       "      <td>44.000000</td>\n",
       "      <td>158.000000</td>\n",
       "      <td>68.000000</td>\n",
       "      <td>26.959840</td>\n",
       "      <td>30.140000</td>\n",
       "      <td>0.0</td>\n",
       "    </tr>\n",
       "    <tr>\n",
       "      <th>75%</th>\n",
       "      <td>1.000000</td>\n",
       "      <td>52.000000</td>\n",
       "      <td>162.000000</td>\n",
       "      <td>76.000000</td>\n",
       "      <td>29.757785</td>\n",
       "      <td>38.260000</td>\n",
       "      <td>0.0</td>\n",
       "    </tr>\n",
       "    <tr>\n",
       "      <th>max</th>\n",
       "      <td>1.000000</td>\n",
       "      <td>84.000000</td>\n",
       "      <td>186.000000</td>\n",
       "      <td>110.000000</td>\n",
       "      <td>50.219138</td>\n",
       "      <td>59.760000</td>\n",
       "      <td>0.0</td>\n",
       "    </tr>\n",
       "  </tbody>\n",
       "</table>\n",
       "</div>"
      ],
      "text/plain": [
       "           GENDER         AGE      Height      Weight         BMI         BAI  \\\n",
       "count  537.000000  537.000000  537.000000  537.000000  537.000000  537.000000   \n",
       "mean     0.450652   44.463687  158.217877   68.325885   27.261189   31.687058   \n",
       "std      0.498023   11.890164    7.930377   13.118822    4.770046    8.276824   \n",
       "min      0.000000   20.000000  139.000000   33.500000   13.671875   14.080000   \n",
       "25%      0.000000   35.000000  153.000000   61.000000   24.508946   25.650000   \n",
       "50%      0.000000   44.000000  158.000000   68.000000   26.959840   30.140000   \n",
       "75%      1.000000   52.000000  162.000000   76.000000   29.757785   38.260000   \n",
       "max      1.000000   84.000000  186.000000  110.000000   50.219138   59.760000   \n",
       "\n",
       "       diabetic  \n",
       "count     537.0  \n",
       "mean        0.0  \n",
       "std         0.0  \n",
       "min         0.0  \n",
       "25%         0.0  \n",
       "50%         0.0  \n",
       "75%         0.0  \n",
       "max         0.0  "
      ]
     },
     "execution_count": 23,
     "metadata": {},
     "output_type": "execute_result"
    }
   ],
   "source": [
    "diabetic_no.describe()"
   ]
  },
  {
   "cell_type": "code",
   "execution_count": 24,
   "metadata": {},
   "outputs": [
    {
     "data": {
      "text/html": [
       "<div>\n",
       "<style scoped>\n",
       "    .dataframe tbody tr th:only-of-type {\n",
       "        vertical-align: middle;\n",
       "    }\n",
       "\n",
       "    .dataframe tbody tr th {\n",
       "        vertical-align: top;\n",
       "    }\n",
       "\n",
       "    .dataframe thead th {\n",
       "        text-align: right;\n",
       "    }\n",
       "</style>\n",
       "<table border=\"1\" class=\"dataframe\">\n",
       "  <thead>\n",
       "    <tr style=\"text-align: right;\">\n",
       "      <th></th>\n",
       "      <th>GENDER</th>\n",
       "      <th>AGE</th>\n",
       "      <th>Height</th>\n",
       "      <th>Weight</th>\n",
       "      <th>BMI</th>\n",
       "      <th>BAI</th>\n",
       "      <th>diabetic</th>\n",
       "    </tr>\n",
       "  </thead>\n",
       "  <tbody>\n",
       "    <tr>\n",
       "      <th>count</th>\n",
       "      <td>528.000000</td>\n",
       "      <td>528.000000</td>\n",
       "      <td>528.000000</td>\n",
       "      <td>528.000000</td>\n",
       "      <td>528.000000</td>\n",
       "      <td>528.000000</td>\n",
       "      <td>528.0</td>\n",
       "    </tr>\n",
       "    <tr>\n",
       "      <th>mean</th>\n",
       "      <td>0.571970</td>\n",
       "      <td>51.812500</td>\n",
       "      <td>160.280303</td>\n",
       "      <td>68.404356</td>\n",
       "      <td>26.640045</td>\n",
       "      <td>29.618864</td>\n",
       "      <td>1.0</td>\n",
       "    </tr>\n",
       "    <tr>\n",
       "      <th>std</th>\n",
       "      <td>0.495262</td>\n",
       "      <td>10.921528</td>\n",
       "      <td>7.562330</td>\n",
       "      <td>12.759664</td>\n",
       "      <td>4.809005</td>\n",
       "      <td>7.753363</td>\n",
       "      <td>0.0</td>\n",
       "    </tr>\n",
       "    <tr>\n",
       "      <th>min</th>\n",
       "      <td>0.000000</td>\n",
       "      <td>25.000000</td>\n",
       "      <td>138.000000</td>\n",
       "      <td>36.500000</td>\n",
       "      <td>15.390454</td>\n",
       "      <td>8.300000</td>\n",
       "      <td>1.0</td>\n",
       "    </tr>\n",
       "    <tr>\n",
       "      <th>25%</th>\n",
       "      <td>0.000000</td>\n",
       "      <td>43.750000</td>\n",
       "      <td>156.000000</td>\n",
       "      <td>59.000000</td>\n",
       "      <td>23.290154</td>\n",
       "      <td>24.790000</td>\n",
       "      <td>1.0</td>\n",
       "    </tr>\n",
       "    <tr>\n",
       "      <th>50%</th>\n",
       "      <td>1.000000</td>\n",
       "      <td>50.000000</td>\n",
       "      <td>159.500000</td>\n",
       "      <td>68.000000</td>\n",
       "      <td>26.527004</td>\n",
       "      <td>28.145000</td>\n",
       "      <td>1.0</td>\n",
       "    </tr>\n",
       "    <tr>\n",
       "      <th>75%</th>\n",
       "      <td>1.000000</td>\n",
       "      <td>59.000000</td>\n",
       "      <td>165.000000</td>\n",
       "      <td>76.000000</td>\n",
       "      <td>29.585799</td>\n",
       "      <td>33.847500</td>\n",
       "      <td>1.0</td>\n",
       "    </tr>\n",
       "    <tr>\n",
       "      <th>max</th>\n",
       "      <td>1.000000</td>\n",
       "      <td>80.000000</td>\n",
       "      <td>186.000000</td>\n",
       "      <td>102.000000</td>\n",
       "      <td>41.207076</td>\n",
       "      <td>58.250000</td>\n",
       "      <td>1.0</td>\n",
       "    </tr>\n",
       "  </tbody>\n",
       "</table>\n",
       "</div>"
      ],
      "text/plain": [
       "           GENDER         AGE      Height      Weight         BMI         BAI  \\\n",
       "count  528.000000  528.000000  528.000000  528.000000  528.000000  528.000000   \n",
       "mean     0.571970   51.812500  160.280303   68.404356   26.640045   29.618864   \n",
       "std      0.495262   10.921528    7.562330   12.759664    4.809005    7.753363   \n",
       "min      0.000000   25.000000  138.000000   36.500000   15.390454    8.300000   \n",
       "25%      0.000000   43.750000  156.000000   59.000000   23.290154   24.790000   \n",
       "50%      1.000000   50.000000  159.500000   68.000000   26.527004   28.145000   \n",
       "75%      1.000000   59.000000  165.000000   76.000000   29.585799   33.847500   \n",
       "max      1.000000   80.000000  186.000000  102.000000   41.207076   58.250000   \n",
       "\n",
       "       diabetic  \n",
       "count     528.0  \n",
       "mean        1.0  \n",
       "std         0.0  \n",
       "min         1.0  \n",
       "25%         1.0  \n",
       "50%         1.0  \n",
       "75%         1.0  \n",
       "max         1.0  "
      ]
     },
     "execution_count": 24,
     "metadata": {},
     "output_type": "execute_result"
    }
   ],
   "source": [
    "diabetic_yes.describe()"
   ]
  },
  {
   "cell_type": "code",
   "execution_count": 25,
   "metadata": {},
   "outputs": [],
   "source": [
    "train_x, test_x, train_y, test_y = train_test_split(data_df.iloc[:,:6],\n",
    " data_df.diabetic,\n",
    "test_size=0.3, random_state=43)\n"
   ]
  },
  {
   "cell_type": "markdown",
   "metadata": {},
   "source": [
    "Normalizing the data using StandardScaler"
   ]
  },
  {
   "cell_type": "code",
   "execution_count": 26,
   "metadata": {},
   "outputs": [],
   "source": [
    "sc=StandardScaler() # creating an instance for StandardScaler class\n",
    "train_x=sc.fit_transform(train_x) # estimate mu and sigma for train set and transform\n",
    "test_x=sc.transform(test_x) # transform the test set"
   ]
  },
  {
   "cell_type": "code",
   "execution_count": 29,
   "metadata": {},
   "outputs": [
    {
     "name": "stdout",
     "output_type": "stream",
     "text": [
      "non-diabetic= (369, 6) diabetic= (376, 6)\n"
     ]
    }
   ],
   "source": [
    "# fetch the diabetic records from train set\n",
    "diabetic_yes_train=train_x[list(np.where(train_y==diabetic)[0])]\n",
    "# fetch the non-diabetic records from train set\n",
    "diabetic_no_train=train_x[list(np.where(train_y==nondia)[0])]\n",
    "# display the counts for each class\n",
    "print('non-diabetic=',diabetic_no_train.shape,'diabetic=',diabetic_yes_train.shape)"
   ]
  },
  {
   "cell_type": "code",
   "execution_count": 30,
   "metadata": {},
   "outputs": [
    {
     "name": "stdout",
     "output_type": "stream",
     "text": [
      "non-diabetic= (168, 6) diabetic= (152, 6)\n"
     ]
    }
   ],
   "source": [
    "# fetch the diabetic records from test set\n",
    "diabetic_yes_test=test_x[list(np.where(test_y==diabetic)[0])]\n",
    "# fetch the non-diabetic records from test set\n",
    "diabetic_no_test=test_x[list(np.where(test_y==nondia)[0])]\n",
    "# display the counts for each class from test set\n",
    "print('non-diabetic=',diabetic_no_test.shape,'diabetic=',diabetic_yes_test.shape)"
   ]
  },
  {
   "cell_type": "markdown",
   "metadata": {},
   "source": [
    "Evaluation metrics\n"
   ]
  },
  {
   "cell_type": "code",
   "execution_count": 32,
   "metadata": {},
   "outputs": [],
   "source": [
    "#evaluate a model using confusion matrix and accuracy score between true and actual\n",
    "def evaluate(yt,yp):\n",
    " cf=confusion_matrix(yt,yp) #estimate confusion matrix\n",
    " acc=accuracy_score(yt,yp) # estimate accuracy of the model\n",
    " return cf,acc\n",
    "# Display metrics\n",
    "def display(yt,yp,model):\n",
    " cf,acc = evaluate(yt,yp)\n",
    " print('Model=',model,'\\ncf=',cf,'\\n')#,'\\nacc=',acc,'\\n')\n"
   ]
  },
  {
   "cell_type": "markdown",
   "metadata": {},
   "source": [
    "Linear SVM\n"
   ]
  },
  {
   "cell_type": "code",
   "execution_count": 33,
   "metadata": {},
   "outputs": [],
   "source": [
    "#Perform Classification using Linear SVM\n",
    "lsvc = LinearSVC(random_state=0,C=10,max_iter=100000) # create a LinearSVC instance\n",
    "lsvc.fit(train_x, train_y) # fit the model for trainset\n",
    "train_yp=lsvc.predict(train_x) # predict the y for train set\n",
    "test_yp=lsvc.predict(test_x) # predict the y for test set"
   ]
  },
  {
   "cell_type": "code",
   "execution_count": 34,
   "metadata": {},
   "outputs": [
    {
     "name": "stdout",
     "output_type": "stream",
     "text": [
      "Model= Linear SVC: Validation \n",
      "cf= [[232 137]\n",
      " [140 236]] \n",
      "\n",
      "Model= Linear SVC: Testing \n",
      "cf= [[106  62]\n",
      " [ 61  91]] \n",
      "\n"
     ]
    }
   ],
   "source": [
    "# display the results\n",
    "display(train_y,train_yp,'Linear SVC: Validation')\n",
    "display(test_y,test_yp,'Linear SVC: Testing')"
   ]
  },
  {
   "cell_type": "code",
   "execution_count": 36,
   "metadata": {},
   "outputs": [
    {
     "data": {
      "text/plain": [
       "array([[ 0.03428288,  0.30612863,  0.47749737, -0.81865936,  0.75756727,\n",
       "        -0.04616451]])"
      ]
     },
     "execution_count": 36,
     "metadata": {},
     "output_type": "execute_result"
    }
   ],
   "source": [
    "lsvc.coef_"
   ]
  },
  {
   "cell_type": "code",
   "execution_count": 37,
   "metadata": {},
   "outputs": [
    {
     "data": {
      "text/plain": [
       "array([0.00939524])"
      ]
     },
     "execution_count": 37,
     "metadata": {},
     "output_type": "execute_result"
    }
   ],
   "source": [
    "lsvc.intercept_"
   ]
  },
  {
   "cell_type": "code",
   "execution_count": 40,
   "metadata": {},
   "outputs": [
    {
     "data": {
      "text/plain": [
       "array([[ 0.03428288,  0.30612863,  0.47749737, -0.81865936,  0.75756727,\n",
       "        -0.04616451]])"
      ]
     },
     "execution_count": 40,
     "metadata": {},
     "output_type": "execute_result"
    }
   ],
   "source": [
    "# rescaling the coefficients to original scale of the features of X\n",
    "rescaled_coef=lsvc.coef_/np.sqrt(sc.var_)\n",
    "rescaled_coef"
   ]
  },
  {
   "cell_type": "code",
   "execution_count": 39,
   "metadata": {},
   "outputs": [
    {
     "data": {
      "text/plain": [
       "array([0.00939524])"
      ]
     },
     "execution_count": 39,
     "metadata": {},
     "output_type": "execute_result"
    }
   ],
   "source": [
    "# the intercept in the original feature space\n",
    "rescaled_intercept=rescaled_coef.dot(sc.mean_.T)+lsvc.intercept_\n",
    "rescaled_intercept"
   ]
  },
  {
   "cell_type": "code",
   "execution_count": 41,
   "metadata": {},
   "outputs": [
    {
     "name": "stdout",
     "output_type": "stream",
     "text": [
      "non-diabetic= (369, 6) diabetic= (376, 6)\n",
      "Model= Linear SVC: Validation \n",
      "cf= [[232 137]\n",
      " [140 236]] \n",
      "\n"
     ]
    }
   ],
   "source": [
    "# display the counts for each class\n",
    "print('non-diabetic=',diabetic_no_train.shape,'diabetic=',diabetic_yes_train.shape)\n",
    "display(train_y,train_yp,'Linear SVC: Validation')"
   ]
  },
  {
   "cell_type": "code",
   "execution_count": 42,
   "metadata": {},
   "outputs": [
    {
     "data": {
      "text/plain": [
       "140"
      ]
     },
     "execution_count": 42,
     "metadata": {},
     "output_type": "execute_result"
    }
   ],
   "source": [
    "# identifiy the slacks for each class\n",
    "non_dia_slacks=(lsvc.coef_.dot(diabetic_yes_train.T)+lsvc.intercept_)\n",
    "np.sum(non_dia_slacks<0)"
   ]
  },
  {
   "cell_type": "code",
   "execution_count": 43,
   "metadata": {},
   "outputs": [
    {
     "data": {
      "text/plain": [
       "137"
      ]
     },
     "execution_count": 43,
     "metadata": {},
     "output_type": "execute_result"
    }
   ],
   "source": [
    "dia_slacks=(lsvc.coef_.dot(diabetic_no_train.T)+lsvc.intercept_)\n",
    "np.sum(dia_slacks>0)"
   ]
  },
  {
   "cell_type": "markdown",
   "metadata": {},
   "source": [
    "Hyperparamter tuning using Gridsearchcv\n"
   ]
  },
  {
   "cell_type": "code",
   "execution_count": 44,
   "metadata": {},
   "outputs": [],
   "source": [
    "# recall = tp / (tp + fn) = Sensitivity or True Positive Rate / True Negative Rate\n",
    "# precision = tp / (tp + fp) = Positive predictive value\n",
    "custom_scorer = {'recall':make_scorer(recall_score, pos_label=diabetic),\n",
    " 'precision':make_scorer(average_precision_score, pos_label=diabetic)}"
   ]
  },
  {
   "cell_type": "code",
   "execution_count": 45,
   "metadata": {},
   "outputs": [
    {
     "data": {
      "text/plain": [
       "{'recall': make_scorer(recall_score, pos_label=1),\n",
       " 'precision': make_scorer(average_precision_score, pos_label=1)}"
      ]
     },
     "execution_count": 45,
     "metadata": {},
     "output_type": "execute_result"
    }
   ],
   "source": [
    "custom_scorer"
   ]
  },
  {
   "cell_type": "code",
   "execution_count": null,
   "metadata": {},
   "outputs": [],
   "source": [
    "gscv = GridSearchCV(LinearSVC(max_iter=1e7), {'C':[1e-5,1e-4,1e-3,1e-2,1e-1,1,10,100,1000]},\n",
    " cv=5,verbose=False,scoring=custom_scorer,refit='recall')\n",
    "gscv.fit(train_x,train_y)\n",
    "gscv.best_params_\n"
   ]
  },
  {
   "cell_type": "code",
   "execution_count": null,
   "metadata": {},
   "outputs": [],
   "source": [
    "# display the results\n",
    "display(train_y,train_yp,'For C=10: Training')\n",
    "#display(test_y,test_yp,'For C=10: Testing')\n",
    "#Perform Classification using Linear SVM\n",
    "lsvc = LinearSVC(random_state=0,C=0.001,max_iter=100000) # create a LinearSVC instance\n",
    "lsvc.fit(train_x, train_y) # fit the model for trainset\n",
    "train_yp=lsvc.predict(train_x) # predict the y for train set\n",
    "test_yp=lsvc.predict(test_x) # predict the y for test set\n",
    "# display the results\n",
    "display(train_y,train_yp,'For C=0.001: Training')\n",
    "#display(test_y,test_yp,'For C=0.001: Testing')"
   ]
  },
  {
   "cell_type": "code",
   "execution_count": null,
   "metadata": {},
   "outputs": [],
   "source": []
  }
 ],
 "metadata": {
  "kernelspec": {
   "display_name": "Python 3",
   "language": "python",
   "name": "python3"
  },
  "language_info": {
   "codemirror_mode": {
    "name": "ipython",
    "version": 3
   },
   "file_extension": ".py",
   "mimetype": "text/x-python",
   "name": "python",
   "nbconvert_exporter": "python",
   "pygments_lexer": "ipython3",
   "version": "3.7.4"
  }
 },
 "nbformat": 4,
 "nbformat_minor": 4
}
