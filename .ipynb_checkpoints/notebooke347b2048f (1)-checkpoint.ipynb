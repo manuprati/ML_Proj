{
 "cells": [
  {
   "cell_type": "markdown",
   "metadata": {},
   "source": [
    "<h1><center>Strategic grouping</center></h1>\n",
    "<center><img src='https://bernardmarr.com/wp-content/uploads/2021/07/the-10-biggest-strategy-mistakes-companies-make.png' width='520' height=\"520\" ></center>\n",
    "\n",
    "\n",
    "This notebook will go through the strategic grouping phase of competitive analysis to define the strategic groups within the automotive industry in india using a mathematical methodology.\n"
   ]
  },
  {
   "cell_type": "markdown",
   "metadata": {},
   "source": [
    "#### But firstly, What is a strategic group?\n",
    "**[A strategic group](https://en.wikipedia.org/wiki/Strategic_group)** is a concept used in strategic management that groups companies within an industry that have similar business models or similar combinations of strategies. For example, the restaurant industry can be divided into several strategic groups including fast-food and fine-dining based on variables such as preparation time, pricing, and presentation. The number of groups within an industry and their composition depends on the dimensions used to define the groups. Strategic management professors and consultants often make use of a two dimensional grid to position firms along an industry's two most important dimensions in order to distinguish direct rivals (those with similar strategies or business models) from indirect rivals. "
   ]
  },
  {
   "cell_type": "markdown",
   "metadata": {},
   "source": [
    "# Objective \n",
    "The main objective of this report is to be able to identify the strategic group of a car given a set of features to that car.\n",
    "\n",
    "The Car we want to identify the strategic group for is Toyota Corolla which is known as Corolla Altis in india\n",
    "\n",
    "<center><img src='https://imgd.aeplcdn.com/1056x594/cw/ec/26588/Toyota-Corolla-Altis-Exterior-114986.jpg?wm=1&q=85' width='500' height='%00'></center>\n",
    "\n",
    "The Corolla is a world wide best seller and it has been sold for many years, but as the automotive market became full of comptitiors an extensive analysis is needed to identifiy the strategic group competing with the company in the market\n",
    "\n",
    "### Approach \n",
    "This report will follow a mathematical approach using a method called clustring to achive the objective of identifying strategic group."
   ]
  },
  {
   "cell_type": "markdown",
   "metadata": {},
   "source": [
    "## Challenge\n",
    "\n",
    "\n",
    "The automotive industry is one of the largest industries out there it's a [2.6 trillion dollar industry](https://www.ibisworld.com/global/market-size/global-car-automobile-manufacturing/)! \n",
    "\n",
    "\n",
    "But inside the industry there are too many categories and subcategories constructed by too many variables that it almost safe to say that every category is an industry of itself.\n",
    "for instance the car body variable is a vital one, as diffrernt body types are being used for very different reason here is a list of some car body type:\n",
    "- SEDAN\n",
    "- COUPE\n",
    "- STATION WAGON\n",
    "- HATCHBACK\n",
    "- CONVERTIBLE\n",
    "- SPORT-UTILITY VEHICLE (SUV)\n",
    "- MINIVAN"
   ]
  },
  {
   "cell_type": "markdown",
   "metadata": {},
   "source": [
    "\n",
    "\n",
    "#### And this just to name a few!, here is a [photo](http://carsonelove.com/car-body-types#prettyPhoto) show some of car types in more details\n",
    "\n",
    "<center><img src='http://carsonelove.com/wp-content/uploads/2014/01/Type-of-Cars.jpg' width='620' height='620'></center>\n"
   ]
  },
  {
   "cell_type": "markdown",
   "metadata": {},
   "source": [
    "And all of the variety above is only regarding the car body type which is only one variable!, not to mention that there are grey areas where some car body types can be irrelevant to customer decision.\n",
    "#### So for a car company it's really a challenge to identify its strategic group as it really takes a lot of effort to put all variable in consideration."
   ]
  },
  {
   "cell_type": "markdown",
   "metadata": {},
   "source": [
    "# Data\n",
    "\n",
    "The [dataset](https://www.kaggle.com/medhekarabhinav5/indian-cars-dataset) used in this report is having the latest information about cars in the Indian market. The dataset contains cars with their variants, In dataset there are 1200+ model/variants to study. There is a variety of Makes/Models which can be studied, All prices has been converted from indian rupee to USD, The dataset has updated information till 4th June 2020.\n",
    "\n",
    "<font color='red'>P.S the prices provided here is neither collected nor checked by the author of this notebook, also this report it for educational purposes only.</font>"
   ]
  },
  {
   "cell_type": "markdown",
   "metadata": {},
   "source": [
    "### This report will have to main part\n",
    "- [Exploratory Data analysis](#EDA)\n",
    "- [Clustering of car data.](#clus)"
   ]
  },
  {
   "cell_type": "code",
   "execution_count": 2,
   "metadata": {
    "_cell_guid": "b1076dfc-b9ad-4769-8c92-a6c4dae69d19",
    "_kg_hide-input": true,
    "_uuid": "8f2839f25d086af736a60e9eeb907d3b93b6e0e5",
    "execution": {
     "iopub.execute_input": "2022-05-21T03:42:30.529630Z",
     "iopub.status.busy": "2022-05-21T03:42:30.529152Z",
     "iopub.status.idle": "2022-05-21T03:42:33.686681Z",
     "shell.execute_reply": "2022-05-21T03:42:33.685464Z",
     "shell.execute_reply.started": "2022-05-21T03:42:30.529584Z"
    }
   },
   "outputs": [],
   "source": [
    "# imports\n",
    "import numpy as np\n",
    "import pandas as pd\n",
    "pd.set_option('display.max_columns', 40)\n",
    "import matplotlib.pyplot as plt\n",
    "import matplotlib.gridspec as gridspec\n",
    "import seaborn as sns\n",
    "%matplotlib inline\n",
    "sns.set_style('darkgrid')\n",
    "import plotly.express as px\n",
    "from sklearn.cluster import KMeans\n",
    "import warnings\n",
    "warnings.filterwarnings('ignore');"
   ]
  },
  {
   "cell_type": "markdown",
   "metadata": {},
   "source": [
    "# Loading data and cleaning data"
   ]
  },
  {
   "cell_type": "code",
   "execution_count": 3,
   "metadata": {
    "execution": {
     "iopub.execute_input": "2022-05-21T03:42:33.688876Z",
     "iopub.status.busy": "2022-05-21T03:42:33.688486Z",
     "iopub.status.idle": "2022-05-21T03:42:33.781736Z",
     "shell.execute_reply": "2022-05-21T03:42:33.780422Z",
     "shell.execute_reply.started": "2022-05-21T03:42:33.688830Z"
    }
   },
   "outputs": [
    {
     "ename": "FileNotFoundError",
     "evalue": "[Errno 2] File ../input/indian-cars-dataset/cars_ds_final.csv does not exist: '../input/indian-cars-dataset/cars_ds_final.csv'",
     "output_type": "error",
     "traceback": [
      "\u001b[1;31m---------------------------------------------------------------------------\u001b[0m",
      "\u001b[1;31mFileNotFoundError\u001b[0m                         Traceback (most recent call last)",
      "\u001b[1;32m<ipython-input-3-5b77f956a573>\u001b[0m in \u001b[0;36m<module>\u001b[1;34m\u001b[0m\n\u001b[1;32m----> 1\u001b[1;33m \u001b[0mdf\u001b[0m \u001b[1;33m=\u001b[0m \u001b[0mpd\u001b[0m\u001b[1;33m.\u001b[0m\u001b[0mread_csv\u001b[0m\u001b[1;33m(\u001b[0m\u001b[1;34m'../input/indian-cars-dataset/cars_ds_final.csv'\u001b[0m\u001b[1;33m)\u001b[0m\u001b[1;33m\u001b[0m\u001b[1;33m\u001b[0m\u001b[0m\n\u001b[0m",
      "\u001b[1;32mc:\\users\\user\\appdata\\local\\programs\\python\\python37-32\\lib\\site-packages\\pandas\\io\\parsers.py\u001b[0m in \u001b[0;36mparser_f\u001b[1;34m(filepath_or_buffer, sep, delimiter, header, names, index_col, usecols, squeeze, prefix, mangle_dupe_cols, dtype, engine, converters, true_values, false_values, skipinitialspace, skiprows, skipfooter, nrows, na_values, keep_default_na, na_filter, verbose, skip_blank_lines, parse_dates, infer_datetime_format, keep_date_col, date_parser, dayfirst, cache_dates, iterator, chunksize, compression, thousands, decimal, lineterminator, quotechar, quoting, doublequote, escapechar, comment, encoding, dialect, error_bad_lines, warn_bad_lines, delim_whitespace, low_memory, memory_map, float_precision)\u001b[0m\n\u001b[0;32m    674\u001b[0m         )\n\u001b[0;32m    675\u001b[0m \u001b[1;33m\u001b[0m\u001b[0m\n\u001b[1;32m--> 676\u001b[1;33m         \u001b[1;32mreturn\u001b[0m \u001b[0m_read\u001b[0m\u001b[1;33m(\u001b[0m\u001b[0mfilepath_or_buffer\u001b[0m\u001b[1;33m,\u001b[0m \u001b[0mkwds\u001b[0m\u001b[1;33m)\u001b[0m\u001b[1;33m\u001b[0m\u001b[1;33m\u001b[0m\u001b[0m\n\u001b[0m\u001b[0;32m    677\u001b[0m \u001b[1;33m\u001b[0m\u001b[0m\n\u001b[0;32m    678\u001b[0m     \u001b[0mparser_f\u001b[0m\u001b[1;33m.\u001b[0m\u001b[0m__name__\u001b[0m \u001b[1;33m=\u001b[0m \u001b[0mname\u001b[0m\u001b[1;33m\u001b[0m\u001b[1;33m\u001b[0m\u001b[0m\n",
      "\u001b[1;32mc:\\users\\user\\appdata\\local\\programs\\python\\python37-32\\lib\\site-packages\\pandas\\io\\parsers.py\u001b[0m in \u001b[0;36m_read\u001b[1;34m(filepath_or_buffer, kwds)\u001b[0m\n\u001b[0;32m    446\u001b[0m \u001b[1;33m\u001b[0m\u001b[0m\n\u001b[0;32m    447\u001b[0m     \u001b[1;31m# Create the parser.\u001b[0m\u001b[1;33m\u001b[0m\u001b[1;33m\u001b[0m\u001b[1;33m\u001b[0m\u001b[0m\n\u001b[1;32m--> 448\u001b[1;33m     \u001b[0mparser\u001b[0m \u001b[1;33m=\u001b[0m \u001b[0mTextFileReader\u001b[0m\u001b[1;33m(\u001b[0m\u001b[0mfp_or_buf\u001b[0m\u001b[1;33m,\u001b[0m \u001b[1;33m**\u001b[0m\u001b[0mkwds\u001b[0m\u001b[1;33m)\u001b[0m\u001b[1;33m\u001b[0m\u001b[1;33m\u001b[0m\u001b[0m\n\u001b[0m\u001b[0;32m    449\u001b[0m \u001b[1;33m\u001b[0m\u001b[0m\n\u001b[0;32m    450\u001b[0m     \u001b[1;32mif\u001b[0m \u001b[0mchunksize\u001b[0m \u001b[1;32mor\u001b[0m \u001b[0miterator\u001b[0m\u001b[1;33m:\u001b[0m\u001b[1;33m\u001b[0m\u001b[1;33m\u001b[0m\u001b[0m\n",
      "\u001b[1;32mc:\\users\\user\\appdata\\local\\programs\\python\\python37-32\\lib\\site-packages\\pandas\\io\\parsers.py\u001b[0m in \u001b[0;36m__init__\u001b[1;34m(self, f, engine, **kwds)\u001b[0m\n\u001b[0;32m    878\u001b[0m             \u001b[0mself\u001b[0m\u001b[1;33m.\u001b[0m\u001b[0moptions\u001b[0m\u001b[1;33m[\u001b[0m\u001b[1;34m\"has_index_names\"\u001b[0m\u001b[1;33m]\u001b[0m \u001b[1;33m=\u001b[0m \u001b[0mkwds\u001b[0m\u001b[1;33m[\u001b[0m\u001b[1;34m\"has_index_names\"\u001b[0m\u001b[1;33m]\u001b[0m\u001b[1;33m\u001b[0m\u001b[1;33m\u001b[0m\u001b[0m\n\u001b[0;32m    879\u001b[0m \u001b[1;33m\u001b[0m\u001b[0m\n\u001b[1;32m--> 880\u001b[1;33m         \u001b[0mself\u001b[0m\u001b[1;33m.\u001b[0m\u001b[0m_make_engine\u001b[0m\u001b[1;33m(\u001b[0m\u001b[0mself\u001b[0m\u001b[1;33m.\u001b[0m\u001b[0mengine\u001b[0m\u001b[1;33m)\u001b[0m\u001b[1;33m\u001b[0m\u001b[1;33m\u001b[0m\u001b[0m\n\u001b[0m\u001b[0;32m    881\u001b[0m \u001b[1;33m\u001b[0m\u001b[0m\n\u001b[0;32m    882\u001b[0m     \u001b[1;32mdef\u001b[0m \u001b[0mclose\u001b[0m\u001b[1;33m(\u001b[0m\u001b[0mself\u001b[0m\u001b[1;33m)\u001b[0m\u001b[1;33m:\u001b[0m\u001b[1;33m\u001b[0m\u001b[1;33m\u001b[0m\u001b[0m\n",
      "\u001b[1;32mc:\\users\\user\\appdata\\local\\programs\\python\\python37-32\\lib\\site-packages\\pandas\\io\\parsers.py\u001b[0m in \u001b[0;36m_make_engine\u001b[1;34m(self, engine)\u001b[0m\n\u001b[0;32m   1112\u001b[0m     \u001b[1;32mdef\u001b[0m \u001b[0m_make_engine\u001b[0m\u001b[1;33m(\u001b[0m\u001b[0mself\u001b[0m\u001b[1;33m,\u001b[0m \u001b[0mengine\u001b[0m\u001b[1;33m=\u001b[0m\u001b[1;34m\"c\"\u001b[0m\u001b[1;33m)\u001b[0m\u001b[1;33m:\u001b[0m\u001b[1;33m\u001b[0m\u001b[1;33m\u001b[0m\u001b[0m\n\u001b[0;32m   1113\u001b[0m         \u001b[1;32mif\u001b[0m \u001b[0mengine\u001b[0m \u001b[1;33m==\u001b[0m \u001b[1;34m\"c\"\u001b[0m\u001b[1;33m:\u001b[0m\u001b[1;33m\u001b[0m\u001b[1;33m\u001b[0m\u001b[0m\n\u001b[1;32m-> 1114\u001b[1;33m             \u001b[0mself\u001b[0m\u001b[1;33m.\u001b[0m\u001b[0m_engine\u001b[0m \u001b[1;33m=\u001b[0m \u001b[0mCParserWrapper\u001b[0m\u001b[1;33m(\u001b[0m\u001b[0mself\u001b[0m\u001b[1;33m.\u001b[0m\u001b[0mf\u001b[0m\u001b[1;33m,\u001b[0m \u001b[1;33m**\u001b[0m\u001b[0mself\u001b[0m\u001b[1;33m.\u001b[0m\u001b[0moptions\u001b[0m\u001b[1;33m)\u001b[0m\u001b[1;33m\u001b[0m\u001b[1;33m\u001b[0m\u001b[0m\n\u001b[0m\u001b[0;32m   1115\u001b[0m         \u001b[1;32melse\u001b[0m\u001b[1;33m:\u001b[0m\u001b[1;33m\u001b[0m\u001b[1;33m\u001b[0m\u001b[0m\n\u001b[0;32m   1116\u001b[0m             \u001b[1;32mif\u001b[0m \u001b[0mengine\u001b[0m \u001b[1;33m==\u001b[0m \u001b[1;34m\"python\"\u001b[0m\u001b[1;33m:\u001b[0m\u001b[1;33m\u001b[0m\u001b[1;33m\u001b[0m\u001b[0m\n",
      "\u001b[1;32mc:\\users\\user\\appdata\\local\\programs\\python\\python37-32\\lib\\site-packages\\pandas\\io\\parsers.py\u001b[0m in \u001b[0;36m__init__\u001b[1;34m(self, src, **kwds)\u001b[0m\n\u001b[0;32m   1889\u001b[0m         \u001b[0mkwds\u001b[0m\u001b[1;33m[\u001b[0m\u001b[1;34m\"usecols\"\u001b[0m\u001b[1;33m]\u001b[0m \u001b[1;33m=\u001b[0m \u001b[0mself\u001b[0m\u001b[1;33m.\u001b[0m\u001b[0musecols\u001b[0m\u001b[1;33m\u001b[0m\u001b[1;33m\u001b[0m\u001b[0m\n\u001b[0;32m   1890\u001b[0m \u001b[1;33m\u001b[0m\u001b[0m\n\u001b[1;32m-> 1891\u001b[1;33m         \u001b[0mself\u001b[0m\u001b[1;33m.\u001b[0m\u001b[0m_reader\u001b[0m \u001b[1;33m=\u001b[0m \u001b[0mparsers\u001b[0m\u001b[1;33m.\u001b[0m\u001b[0mTextReader\u001b[0m\u001b[1;33m(\u001b[0m\u001b[0msrc\u001b[0m\u001b[1;33m,\u001b[0m \u001b[1;33m**\u001b[0m\u001b[0mkwds\u001b[0m\u001b[1;33m)\u001b[0m\u001b[1;33m\u001b[0m\u001b[1;33m\u001b[0m\u001b[0m\n\u001b[0m\u001b[0;32m   1892\u001b[0m         \u001b[0mself\u001b[0m\u001b[1;33m.\u001b[0m\u001b[0munnamed_cols\u001b[0m \u001b[1;33m=\u001b[0m \u001b[0mself\u001b[0m\u001b[1;33m.\u001b[0m\u001b[0m_reader\u001b[0m\u001b[1;33m.\u001b[0m\u001b[0munnamed_cols\u001b[0m\u001b[1;33m\u001b[0m\u001b[1;33m\u001b[0m\u001b[0m\n\u001b[0;32m   1893\u001b[0m \u001b[1;33m\u001b[0m\u001b[0m\n",
      "\u001b[1;32mpandas\\_libs\\parsers.pyx\u001b[0m in \u001b[0;36mpandas._libs.parsers.TextReader.__cinit__\u001b[1;34m()\u001b[0m\n",
      "\u001b[1;32mpandas\\_libs\\parsers.pyx\u001b[0m in \u001b[0;36mpandas._libs.parsers.TextReader._setup_parser_source\u001b[1;34m()\u001b[0m\n",
      "\u001b[1;31mFileNotFoundError\u001b[0m: [Errno 2] File ../input/indian-cars-dataset/cars_ds_final.csv does not exist: '../input/indian-cars-dataset/cars_ds_final.csv'"
     ]
    }
   ],
   "source": [
    "df = pd.read_csv('../input/indian-cars-dataset/cars_ds_final.csv')"
   ]
  },
  {
   "cell_type": "markdown",
   "metadata": {},
   "source": [
    "### here is a sample of the data"
   ]
  },
  {
   "cell_type": "code",
   "execution_count": 4,
   "metadata": {
    "execution": {
     "iopub.execute_input": "2022-05-21T03:42:33.786261Z",
     "iopub.status.busy": "2022-05-21T03:42:33.785490Z",
     "iopub.status.idle": "2022-05-21T03:42:33.850344Z",
     "shell.execute_reply": "2022-05-21T03:42:33.849193Z",
     "shell.execute_reply.started": "2022-05-21T03:42:33.786202Z"
    }
   },
   "outputs": [],
   "source": [
    "df.sample(8)"
   ]
  },
  {
   "cell_type": "markdown",
   "metadata": {},
   "source": [
    "### showning important features regarding the dataset"
   ]
  },
  {
   "cell_type": "code",
   "execution_count": 5,
   "metadata": {
    "execution": {
     "iopub.execute_input": "2022-05-21T03:42:33.853446Z",
     "iopub.status.busy": "2022-05-21T03:42:33.852688Z",
     "iopub.status.idle": "2022-05-21T03:42:34.972734Z",
     "shell.execute_reply": "2022-05-21T03:42:34.971373Z",
     "shell.execute_reply.started": "2022-05-21T03:42:33.853374Z"
    }
   },
   "outputs": [],
   "source": [
    "l_D = len(df)\n",
    "c_m = len(df.Make.unique())\n",
    "c_c = len(df.Model.unique())\n",
    "n_f = len(df.columns)\n",
    "fig = px.bar(x=['Observations',\"Makers\",'Models','Features'],y=[l_D,c_m,c_c,n_f], width=800,height=400)\n",
    "fig.update_layout(\n",
    "    title=\"Dataset Statistics\",\n",
    "    xaxis_title=\"\",\n",
    "    yaxis_title=\"Counts\",\n",
    "    font=dict(\n",
    "        size=16,\n",
    "    )\n",
    ")\n",
    "\n",
    "fig.show()"
   ]
  },
  {
   "cell_type": "markdown",
   "metadata": {},
   "source": [
    "#### Since the dataset is full of features, we will choose only a subset of  useful features to work with, also we will clean the data to extract useful information"
   ]
  },
  {
   "cell_type": "code",
   "execution_count": 6,
   "metadata": {
    "_kg_hide-input": true,
    "execution": {
     "iopub.execute_input": "2022-05-21T03:42:34.975628Z",
     "iopub.status.busy": "2022-05-21T03:42:34.974803Z",
     "iopub.status.idle": "2022-05-21T03:42:35.071558Z",
     "shell.execute_reply": "2022-05-21T03:42:35.070424Z",
     "shell.execute_reply.started": "2022-05-21T03:42:34.975558Z"
    }
   },
   "outputs": [],
   "source": [
    "df['car'] = df.Make + ' ' + df.Model\n",
    "c = ['Make','Model','car','Variant','Body_Type','Fuel_Type','Fuel_System','Type','Drivetrain','Ex-Showroom_Price','Displacement','Cylinders',\n",
    "     'ARAI_Certified_Mileage','Power','Torque','Fuel_Tank_Capacity','Height','Length','Width','Doors','Seating_Capacity','Wheelbase','Number_of_Airbags']\n",
    "df_full = df.copy()\n",
    "df['Ex-Showroom_Price'] = df['Ex-Showroom_Price'].str.replace('Rs. ','',regex=False)\n",
    "df['Ex-Showroom_Price'] = df['Ex-Showroom_Price'].str.replace(',','',regex=False)\n",
    "df['Ex-Showroom_Price'] = df['Ex-Showroom_Price'].astype(int)\n",
    "df = df[c]\n",
    "df = df[~df.ARAI_Certified_Mileage.isnull()]\n",
    "df = df[~df.Make.isnull()]\n",
    "df = df[~df.Width.isnull()]\n",
    "df = df[~df.Cylinders.isnull()]\n",
    "df = df[~df.Wheelbase.isnull()]\n",
    "df = df[~df['Fuel_Tank_Capacity'].isnull()]\n",
    "df = df[~df['Seating_Capacity'].isnull()]\n",
    "df = df[~df['Torque'].isnull()]\n",
    "df['Height'] = df['Height'].str.replace(' mm','',regex=False).astype(float)\n",
    "df['Length'] = df['Length'].str.replace(' mm','',regex=False).astype(float)\n",
    "df['Width'] = df['Width'].str.replace(' mm','',regex=False).astype(float)\n",
    "df['Wheelbase'] = df['Wheelbase'].str.replace(' mm','',regex=False).astype(float)\n",
    "df['Fuel_Tank_Capacity'] = df['Fuel_Tank_Capacity'].str.replace(' litres','',regex=False).astype(float)\n",
    "df['Displacement'] = df['Displacement'].str.replace(' cc','',regex=False)\n",
    "df.loc[df.ARAI_Certified_Mileage == '9.8-10.0 km/litre','ARAI_Certified_Mileage'] = '10'\n",
    "df.loc[df.ARAI_Certified_Mileage == '10kmpl km/litre','ARAI_Certified_Mileage'] = '10'\n",
    "df['ARAI_Certified_Mileage'] = df['ARAI_Certified_Mileage'].str.replace(' km/litre','',regex=False).astype(float)\n",
    "df.Number_of_Airbags.fillna(0,inplace= True)\n",
    "df['price'] = df['Ex-Showroom_Price'] * 0.014\n",
    "df.drop(columns='Ex-Showroom_Price', inplace= True)\n",
    "df.price = df.price.astype(int)\n",
    "HP = df.Power.str.extract(r'(\\d{1,4}).*').astype(int) * 0.98632\n",
    "HP = HP.apply(lambda x: round(x,2))\n",
    "TQ = df.Torque.str.extract(r'(\\d{1,4}).*').astype(int)\n",
    "TQ = TQ.apply(lambda x: round(x,2))\n",
    "df.Torque = TQ\n",
    "df.Power = HP\n",
    "df.Doors = df.Doors.astype(int)\n",
    "df.Seating_Capacity = df.Seating_Capacity.astype(int)\n",
    "df.Number_of_Airbags = df.Number_of_Airbags.astype(int)\n",
    "df.Displacement = df.Displacement.astype(int)\n",
    "df.Cylinders = df.Cylinders.astype(int)\n",
    "df.columns = ['make', 'model','car', 'variant', 'body_type', 'fuel_type', 'fuel_system','type', 'drivetrain', 'displacement', 'cylinders',\n",
    "              'mileage', 'power', 'torque', 'fuel_tank','height', 'length', 'width', 'doors', 'seats', 'wheelbase','airbags', 'price']"
   ]
  },
  {
   "cell_type": "markdown",
   "metadata": {},
   "source": [
    "<a id='EDA'></a>\n",
    "# Exploratory Data analysis\n"
   ]
  },
  {
   "cell_type": "markdown",
   "metadata": {},
   "source": [
    "### Now We check a sample of dataset after cleaning it"
   ]
  },
  {
   "cell_type": "code",
   "execution_count": 7,
   "metadata": {
    "execution": {
     "iopub.execute_input": "2022-05-21T03:42:35.073663Z",
     "iopub.status.busy": "2022-05-21T03:42:35.073229Z",
     "iopub.status.idle": "2022-05-21T03:42:35.107654Z",
     "shell.execute_reply": "2022-05-21T03:42:35.106446Z",
     "shell.execute_reply.started": "2022-05-21T03:42:35.073616Z"
    }
   },
   "outputs": [],
   "source": [
    "df.sample(6)"
   ]
  },
  {
   "cell_type": "markdown",
   "metadata": {},
   "source": [
    "#### Now we find what is the main features regarding the car "
   ]
  },
  {
   "cell_type": "code",
   "execution_count": 8,
   "metadata": {
    "execution": {
     "iopub.execute_input": "2022-05-21T03:42:35.109988Z",
     "iopub.status.busy": "2022-05-21T03:42:35.109348Z",
     "iopub.status.idle": "2022-05-21T03:42:35.156151Z",
     "shell.execute_reply": "2022-05-21T03:42:35.155007Z",
     "shell.execute_reply.started": "2022-05-21T03:42:35.109932Z"
    }
   },
   "outputs": [],
   "source": [
    "df[df.model =='Corolla Altis']"
   ]
  },
  {
   "cell_type": "markdown",
   "metadata": {},
   "source": [
    "> #### We can see that there are 6 variants of the car in the market"
   ]
  },
  {
   "cell_type": "markdown",
   "metadata": {},
   "source": [
    "### Now we check the distribution of some features in the dataset\n",
    "### First we Check the price distribution, we will use both normal and log scales due to the huge difference in prices."
   ]
  },
  {
   "cell_type": "code",
   "execution_count": 9,
   "metadata": {
    "_kg_hide-input": true,
    "execution": {
     "iopub.execute_input": "2022-05-21T03:42:35.160610Z",
     "iopub.status.busy": "2022-05-21T03:42:35.160088Z",
     "iopub.status.idle": "2022-05-21T03:42:37.461993Z",
     "shell.execute_reply": "2022-05-21T03:42:37.460844Z",
     "shell.execute_reply.started": "2022-05-21T03:42:35.160555Z"
    }
   },
   "outputs": [],
   "source": [
    "fig,(ax1,ax2) = plt.subplots(2,1,figsize=(14,11))\n",
    "sns.histplot(data=df, x='price',bins=50, alpha=.6, color='darkblue', ax=ax1)\n",
    "ax12 = ax1.twinx()\n",
    "sns.kdeplot(data=df, x='price', alpha=.2,fill= True,color=\"#254b7f\",ax=ax12,linewidth=0)\n",
    "ax12.grid()\n",
    "ax1.set_title('Histogram of cars price data',fontsize=16)\n",
    "ax1.set_xlabel('')\n",
    "logbins = np.logspace(np.log10(3000),np.log10(744944.578),50)\n",
    "sns.histplot(data=df, x='price',bins=logbins,alpha=.6, color='darkblue',ax=ax2)\n",
    "ax2.set_title('Histogram of cars price data (log scale)',fontsize=16)\n",
    "ax2.set_xscale('log')\n",
    "ax22 = ax2.twinx()\n",
    "ax22.grid()\n",
    "sns.kdeplot(data=df, x='price', alpha=.2,fill= True,color=\"#254b7f\",ax=ax22,log_scale=True,linewidth=0)\n",
    "ax2.set_xlabel('Price (log)', fontsize=14)\n",
    "ax22.set_xticks((800,1000,10000,100000,1000000))\n",
    "ax2.xaxis.set_tick_params(labelsize=14);\n",
    "ax1.xaxis.set_tick_params(labelsize=14);"
   ]
  },
  {
   "cell_type": "markdown",
   "metadata": {},
   "source": [
    "### Seems like there is a lot of varaince in price we can check that by plotting a box plot "
   ]
  },
  {
   "cell_type": "code",
   "execution_count": 10,
   "metadata": {
    "_kg_hide-input": true,
    "execution": {
     "iopub.execute_input": "2022-05-21T03:42:37.465604Z",
     "iopub.status.busy": "2022-05-21T03:42:37.464789Z",
     "iopub.status.idle": "2022-05-21T03:42:37.655525Z",
     "shell.execute_reply": "2022-05-21T03:42:37.654363Z",
     "shell.execute_reply.started": "2022-05-21T03:42:37.465544Z"
    }
   },
   "outputs": [],
   "source": [
    "plt.figure(figsize=(12,6))\n",
    "sns.boxplot(data=df, x='price',width=.3,color='blue', hue= 'fuel_type')\n",
    "plt.title('Box plot of Price',fontsize=18)\n",
    "plt.xticks([i for i in range(0,800000,100000)],[f'{i:,}$' for i in range(0,800000,100000)],fontsize=14)\n",
    "plt.xlabel('price',fontsize=14);"
   ]
  },
  {
   "cell_type": "markdown",
   "metadata": {},
   "source": [
    "> #### Seems that there is a lot of outliers that form a very different type(s) of cars or to be mor exact there are very different categories in the automotive market"
   ]
  },
  {
   "cell_type": "code",
   "execution_count": 11,
   "metadata": {
    "_kg_hide-input": true,
    "execution": {
     "iopub.execute_input": "2022-05-21T03:42:37.657860Z",
     "iopub.status.busy": "2022-05-21T03:42:37.657235Z",
     "iopub.status.idle": "2022-05-21T03:42:37.983515Z",
     "shell.execute_reply": "2022-05-21T03:42:37.982255Z",
     "shell.execute_reply.started": "2022-05-21T03:42:37.657804Z"
    }
   },
   "outputs": [],
   "source": [
    "plt.figure(figsize=(16,7))\n",
    "sns.countplot(data=df, y='body_type',alpha=.6,color='darkblue')\n",
    "plt.title('Cars by car body type',fontsize=20)\n",
    "plt.xticks(fontsize=14)\n",
    "plt.yticks(fontsize=14)\n",
    "plt.xlabel('')\n",
    "plt.ylabel('');"
   ]
  },
  {
   "cell_type": "markdown",
   "metadata": {},
   "source": [
    "> #### SUV's Sedans and hatchbacks seems to be the dominating car types"
   ]
  },
  {
   "cell_type": "code",
   "execution_count": 12,
   "metadata": {
    "_kg_hide-input": true,
    "execution": {
     "iopub.execute_input": "2022-05-21T03:42:37.986164Z",
     "iopub.status.busy": "2022-05-21T03:42:37.985537Z",
     "iopub.status.idle": "2022-05-21T03:42:38.477514Z",
     "shell.execute_reply": "2022-05-21T03:42:38.476412Z",
     "shell.execute_reply.started": "2022-05-21T03:42:37.986106Z"
    }
   },
   "outputs": [],
   "source": [
    "plt.figure(figsize=(12,6))\n",
    "sns.boxplot(data=df, x='price', y='body_type', palette='viridis')\n",
    "plt.title('Box plot of Price of every body type',fontsize=18)\n",
    "plt.ylabel('')\n",
    "plt.yticks(fontsize=14)\n",
    "plt.xticks([i for i in range(0,800000,100000)],[f'{i:,}$' for i in range(0,800000,100000)],fontsize=14);"
   ]
  },
  {
   "cell_type": "markdown",
   "metadata": {},
   "source": [
    "> #### It's Clear that Car body type strongly affect the price "
   ]
  },
  {
   "cell_type": "markdown",
   "metadata": {},
   "source": [
    "### Now we check cars by Fuel type"
   ]
  },
  {
   "cell_type": "code",
   "execution_count": 13,
   "metadata": {
    "_kg_hide-input": true,
    "execution": {
     "iopub.execute_input": "2022-05-21T03:42:38.480305Z",
     "iopub.status.busy": "2022-05-21T03:42:38.479435Z",
     "iopub.status.idle": "2022-05-21T03:42:38.728901Z",
     "shell.execute_reply": "2022-05-21T03:42:38.728051Z",
     "shell.execute_reply.started": "2022-05-21T03:42:38.480241Z"
    }
   },
   "outputs": [],
   "source": [
    "plt.figure(figsize=(11,6))\n",
    "sns.countplot(data=df, x='fuel_type',alpha=.6, color='darkblue')\n",
    "plt.title('Cars count by engine fuel type',fontsize=18)\n",
    "plt.xlabel('Fuel Type', fontsize=16)\n",
    "plt.xticks(fontsize=14)\n",
    "plt.yticks(fontsize=14)\n",
    "plt.ylabel('');"
   ]
  },
  {
   "cell_type": "markdown",
   "metadata": {},
   "source": [
    "> #### Most cars seems to be run on gas or Diesel"
   ]
  },
  {
   "cell_type": "markdown",
   "metadata": {},
   "source": [
    "### Now we check car by engine size"
   ]
  },
  {
   "cell_type": "code",
   "execution_count": 14,
   "metadata": {
    "_kg_hide-input": true,
    "execution": {
     "iopub.execute_input": "2022-05-21T03:42:38.731049Z",
     "iopub.status.busy": "2022-05-21T03:42:38.730410Z",
     "iopub.status.idle": "2022-05-21T03:42:39.016420Z",
     "shell.execute_reply": "2022-05-21T03:42:39.015241Z",
     "shell.execute_reply.started": "2022-05-21T03:42:38.731003Z"
    }
   },
   "outputs": [],
   "source": [
    "plt.figure(figsize=(14,6))\n",
    "sns.histplot(data=df, x='displacement',alpha=.6, color='darkblue',bins=10)\n",
    "plt.title('Cars by engine size (in CC)',fontsize=18)\n",
    "plt.xticks(fontsize=13);\n",
    "plt.yticks(fontsize=13);"
   ]
  },
  {
   "cell_type": "markdown",
   "metadata": {},
   "source": [
    "> #### Seems like most of cars have engine size in the 1000:2000cc range"
   ]
  },
  {
   "cell_type": "markdown",
   "metadata": {},
   "source": [
    "### Now We check the Horsepower of cars"
   ]
  },
  {
   "cell_type": "code",
   "execution_count": 15,
   "metadata": {
    "_kg_hide-input": true,
    "execution": {
     "iopub.execute_input": "2022-05-21T03:42:39.018682Z",
     "iopub.status.busy": "2022-05-21T03:42:39.018167Z",
     "iopub.status.idle": "2022-05-21T03:42:39.398458Z",
     "shell.execute_reply": "2022-05-21T03:42:39.397389Z",
     "shell.execute_reply.started": "2022-05-21T03:42:39.018630Z"
    }
   },
   "outputs": [],
   "source": [
    "plt.figure(figsize=(14,6))\n",
    "sns.histplot(data=df, x='power',alpha=.6, color='darkblue')\n",
    "plt.title('Cars by Horsepower (in CC)',fontsize=18);\n",
    "plt.xticks(fontsize=13);\n",
    "plt.yticks(fontsize=13);"
   ]
  },
  {
   "cell_type": "markdown",
   "metadata": {},
   "source": [
    "### Now we check the relation horsepower and price considering diffreent body type"
   ]
  },
  {
   "cell_type": "code",
   "execution_count": 16,
   "metadata": {
    "_kg_hide-input": true,
    "execution": {
     "iopub.execute_input": "2022-05-21T03:42:39.400797Z",
     "iopub.status.busy": "2022-05-21T03:42:39.400137Z",
     "iopub.status.idle": "2022-05-21T03:42:40.284565Z",
     "shell.execute_reply": "2022-05-21T03:42:40.283145Z",
     "shell.execute_reply.started": "2022-05-21T03:42:39.400736Z"
    }
   },
   "outputs": [],
   "source": [
    "plt.figure(figsize=(10,8))\n",
    "sns.scatterplot(data=df, x='power', y='price',hue='body_type',palette='viridis',alpha=.89, s=120 );\n",
    "plt.xticks(fontsize=13);\n",
    "plt.yticks(fontsize=13)\n",
    "plt.xlabel('power',fontsize=14)\n",
    "plt.ylabel('price',fontsize=14)\n",
    "plt.title('Relation between power and price',fontsize=20);"
   ]
  },
  {
   "cell_type": "markdown",
   "metadata": {},
   "source": [
    "> #### Horsepower of car seems to be highly related to car price but car body type seems a little bit blurry but hatchbacls seems to be the body type with the least horsepower and price"
   ]
  },
  {
   "cell_type": "markdown",
   "metadata": {},
   "source": [
    "### We can also look into the relation between Mileage and price"
   ]
  },
  {
   "cell_type": "code",
   "execution_count": 17,
   "metadata": {
    "_kg_hide-input": true,
    "execution": {
     "iopub.execute_input": "2022-05-21T03:42:40.287104Z",
     "iopub.status.busy": "2022-05-21T03:42:40.286419Z",
     "iopub.status.idle": "2022-05-21T03:42:41.541340Z",
     "shell.execute_reply": "2022-05-21T03:42:41.540292Z",
     "shell.execute_reply.started": "2022-05-21T03:42:40.287038Z"
    }
   },
   "outputs": [],
   "source": [
    "plt.figure(figsize=(10,8))\n",
    "ax= fig.add_subplot()\n",
    "sns.jointplot(data=df, x='mileage', y='price',kind= 'reg',ax=ax, palette='viridis',height=8,  ratio=7)\n",
    "ax.text(.5,.7,'Relation between Power and price', fontsize=18)\n",
    "ax.set_xlabel('Power (HP)', fontsize= 15);"
   ]
  },
  {
   "cell_type": "markdown",
   "metadata": {},
   "source": [
    "> #### It's looks like expensive cars tend to have worse mileage"
   ]
  },
  {
   "cell_type": "markdown",
   "metadata": {},
   "source": [
    "### We can also check the overall correlation of between variables and each other"
   ]
  },
  {
   "cell_type": "markdown",
   "metadata": {},
   "source": [
    "### First we make a pearson correlation grid"
   ]
  },
  {
   "cell_type": "code",
   "execution_count": 18,
   "metadata": {
    "_kg_hide-input": true,
    "execution": {
     "iopub.execute_input": "2022-05-21T03:42:41.543735Z",
     "iopub.status.busy": "2022-05-21T03:42:41.542966Z",
     "iopub.status.idle": "2022-05-21T03:42:43.444800Z",
     "shell.execute_reply": "2022-05-21T03:42:43.443693Z",
     "shell.execute_reply.started": "2022-05-21T03:42:41.543685Z"
    }
   },
   "outputs": [],
   "source": [
    "plt.figure(figsize=(22,8))\n",
    "sns.heatmap(df.corr(), annot=True, fmt='.2%')\n",
    "plt.title('Correlation between differet variable',fontsize=20)\n",
    "plt.xticks(fontsize=14, rotation=320)\n",
    "plt.yticks(fontsize=14);"
   ]
  },
  {
   "cell_type": "markdown",
   "metadata": {},
   "source": [
    "### Now we check an extensive scatter plot grid of more numerical variable to investigate the realtion in more detail"
   ]
  },
  {
   "cell_type": "code",
   "execution_count": 19,
   "metadata": {
    "_kg_hide-input": true,
    "execution": {
     "iopub.execute_input": "2022-05-21T03:42:43.447364Z",
     "iopub.status.busy": "2022-05-21T03:42:43.446732Z",
     "iopub.status.idle": "2022-05-21T03:42:49.974806Z",
     "shell.execute_reply": "2022-05-21T03:42:49.973650Z",
     "shell.execute_reply.started": "2022-05-21T03:42:43.447319Z"
    }
   },
   "outputs": [],
   "source": [
    "sns.pairplot(df,vars=[ 'displacement', 'mileage', 'power', 'price'], hue= 'fuel_type',\n",
    "             palette=sns.color_palette('magma',n_colors=4),diag_kind='kde',height=2, aspect=1.8);"
   ]
  },
  {
   "cell_type": "markdown",
   "metadata": {},
   "source": [
    "> #### Seems there are a lot of multicollinearity between variables."
   ]
  },
  {
   "cell_type": "markdown",
   "metadata": {},
   "source": [
    "### Now lets make a 3D scatter plot to check for obvious clusters with main features as price horsepower and mileage"
   ]
  },
  {
   "cell_type": "markdown",
   "metadata": {},
   "source": [
    "### Using more interactive plot to show the previous plot and also adding the car manufacturer"
   ]
  },
  {
   "cell_type": "code",
   "execution_count": 20,
   "metadata": {
    "_kg_hide-input": true,
    "execution": {
     "iopub.execute_input": "2022-05-21T03:42:49.977483Z",
     "iopub.status.busy": "2022-05-21T03:42:49.976779Z",
     "iopub.status.idle": "2022-05-21T03:42:50.209567Z",
     "shell.execute_reply": "2022-05-21T03:42:50.208455Z",
     "shell.execute_reply.started": "2022-05-21T03:42:49.977429Z"
    }
   },
   "outputs": [],
   "source": [
    "fig = px.scatter_3d(df, x='power', z='price', y='mileage',color='make',width=800,height=750)\n",
    "fig.update_layout(showlegend=True)\n",
    "fig.show();"
   ]
  },
  {
   "cell_type": "markdown",
   "metadata": {},
   "source": [
    "> #### As shown in previous figures clustring the market needs a lot f effort as the separation of clusters is not that obvious"
   ]
  },
  {
   "cell_type": "markdown",
   "metadata": {},
   "source": [
    "# IS that All?\n"
   ]
  },
  {
   "cell_type": "markdown",
   "metadata": {},
   "source": [
    "It's now clear that we have to look to many dimensions in order to cluster the market, as the more features we explore the harder it's to cluster the market.\n",
    "These dimensions affect the decision of the buyers not to mention it also precvied totally different due to the very different mental models of buyers, in other words, price horsepower and mileage are not everything, some buyers would like to have a long wheel base car, some would like to have wider car all of the previous features, and more, strongly affect the buyer' decisions.\n",
    "\n",
    "This means that two car can have very similar price and milage but one is a van with lots of space and the other is just a four doors sedan, these two cars are precieved as two different categories in the automotive industry so space \"length width and height of the car\" can also be a vital factor."
   ]
  },
  {
   "cell_type": "markdown",
   "metadata": {},
   "source": [
    "\n",
    "<center><img src='https://www.cnet.com/a/img/qtmmL-iMd08jk2MYEVNPkfs7M8U=/2019/02/03/9cd75864-225d-406e-baa0-4852091faf61/2019-dodge-grand-caravan-35th-anniversary-1.jpg' width='480' height=\"480\" ></center>\n",
    "dodge-grand-caravan which considered to be a soccer mom van\n"
   ]
  },
  {
   "cell_type": "markdown",
   "metadata": {},
   "source": [
    "<center><img src='https://upload.wikimedia.org/wikipedia/commons/a/ac/2018_Toyota_Camry_%28ASV70R%29_Ascent_sedan_%282018-08-27%29_01.jpg' width='480' height=\"480\" ></center>\n",
    "toyota camry which is more of an upper class four door sedan\n",
    "\n",
    "#### So, a three dimensional representation won't tell everythings, so thats why we will try to consider clustering to use the very different features associated with each car"
   ]
  },
  {
   "cell_type": "markdown",
   "metadata": {},
   "source": [
    "<a id='clus'></a>\n",
    "# [Clustering](https://en.wikipedia.org/wiki/Cluster_analysis) \n",
    "Cluster analysis or clustering is the task of grouping a set of objects in such a way that objects in the same group (called a cluster) are more similar (in some sense) to each other than to those in other groups (clusters). It is a main task of exploratory data analysis, and a common technique for statistical data analysis, used in many fields, including pattern recognition, image analysis, information retrieval, bioinformatics, data compression, computer graphics and machine learning.\n"
   ]
  },
  {
   "cell_type": "markdown",
   "metadata": {},
   "source": [
    "\n",
    "#### The type of clustering used here is [k-means clustering](https://en.wikipedia.org/wiki/K-means_clustering)\n",
    "\n",
    "k-means clustering is a method of vector quantization, originally from signal processing, that aims to partition n observations into k clusters in which each observation belongs to the cluster with the nearest mean (cluster centers or cluster centroid), serving as a prototype of the cluster. This results in a partitioning of the data space into Voronoi cells. k-means clustering minimizes within-cluster variances (squared Euclidean distances)\n",
    "<center><img src='https://i.giphy.com/DHqth0hVQoIzS.gif' width='480' height=\"480\" ></center>"
   ]
  },
  {
   "cell_type": "markdown",
   "metadata": {},
   "source": [
    "### We will drop the cars over 60k as they totally not a match for the corolla"
   ]
  },
  {
   "cell_type": "code",
   "execution_count": 21,
   "metadata": {
    "execution": {
     "iopub.execute_input": "2022-05-21T03:42:50.212086Z",
     "iopub.status.busy": "2022-05-21T03:42:50.211334Z",
     "iopub.status.idle": "2022-05-21T03:42:50.219933Z",
     "shell.execute_reply": "2022-05-21T03:42:50.218881Z",
     "shell.execute_reply.started": "2022-05-21T03:42:50.212034Z"
    }
   },
   "outputs": [],
   "source": [
    "df = df[df.price < 60000]"
   ]
  },
  {
   "cell_type": "markdown",
   "metadata": {},
   "source": [
    "### Now we choose a collection of features to build 8 clusters of cars"
   ]
  },
  {
   "cell_type": "code",
   "execution_count": 22,
   "metadata": {
    "execution": {
     "iopub.execute_input": "2022-05-21T03:42:50.222072Z",
     "iopub.status.busy": "2022-05-21T03:42:50.221487Z",
     "iopub.status.idle": "2022-05-21T03:42:50.231809Z",
     "shell.execute_reply": "2022-05-21T03:42:50.230851Z",
     "shell.execute_reply.started": "2022-05-21T03:42:50.222025Z"
    }
   },
   "outputs": [],
   "source": [
    "num_cols = [ i for i in df.columns if df[i].dtype != 'object']"
   ]
  },
  {
   "cell_type": "markdown",
   "metadata": {},
   "source": [
    "### Fitting K-means clustering model with 10 clusters and adding a cluster column to the dataset"
   ]
  },
  {
   "cell_type": "code",
   "execution_count": 23,
   "metadata": {
    "execution": {
     "iopub.execute_input": "2022-05-21T03:42:50.234579Z",
     "iopub.status.busy": "2022-05-21T03:42:50.233057Z",
     "iopub.status.idle": "2022-05-21T03:42:50.966456Z",
     "shell.execute_reply": "2022-05-21T03:42:50.965179Z",
     "shell.execute_reply.started": "2022-05-21T03:42:50.234530Z"
    }
   },
   "outputs": [],
   "source": [
    "km = KMeans(n_clusters=8, n_init=20, max_iter=400, random_state=0)\n",
    "clusters = km.fit_predict(df[num_cols])\n",
    "df['cluster'] = clusters\n",
    "df.cluster = (df.cluster + 1).astype('object')\n",
    "df.sample(5)"
   ]
  },
  {
   "cell_type": "markdown",
   "metadata": {},
   "source": [
    "### Now we check some scatter plots but with adding cluster."
   ]
  },
  {
   "cell_type": "markdown",
   "metadata": {},
   "source": [
    "### Price vs Power"
   ]
  },
  {
   "cell_type": "code",
   "execution_count": 24,
   "metadata": {
    "_kg_hide-input": true,
    "execution": {
     "iopub.execute_input": "2022-05-21T03:42:50.975153Z",
     "iopub.status.busy": "2022-05-21T03:42:50.971181Z",
     "iopub.status.idle": "2022-05-21T03:42:51.928867Z",
     "shell.execute_reply": "2022-05-21T03:42:51.927799Z",
     "shell.execute_reply.started": "2022-05-21T03:42:50.975094Z"
    }
   },
   "outputs": [],
   "source": [
    "plt.figure(figsize=(10,8))\n",
    "sns.scatterplot(data=df, y='price', x='power',s=120,hue='cluster',palette='viridis')\n",
    "plt.legend(ncol=4)\n",
    "plt.title('Scatter plot of price and horsepower with clusterspclusters predicted', fontsize=18)\n",
    "plt.xlabel('power',fontsize=16)\n",
    "plt.ylabel('price',fontsize=16);"
   ]
  },
  {
   "cell_type": "markdown",
   "metadata": {},
   "source": [
    "> #### We can see the the clusters are strongly affected by the price with clear speration between clusters but it's kind of blurry when it comes to power"
   ]
  },
  {
   "cell_type": "markdown",
   "metadata": {},
   "source": [
    "### Power vs Mileage"
   ]
  },
  {
   "cell_type": "code",
   "execution_count": 25,
   "metadata": {
    "execution": {
     "iopub.execute_input": "2022-05-21T03:42:51.931279Z",
     "iopub.status.busy": "2022-05-21T03:42:51.930775Z",
     "iopub.status.idle": "2022-05-21T03:42:52.412819Z",
     "shell.execute_reply": "2022-05-21T03:42:52.411790Z",
     "shell.execute_reply.started": "2022-05-21T03:42:51.931237Z"
    }
   },
   "outputs": [],
   "source": [
    "plt.figure(figsize=(8,6))\n",
    "sns.scatterplot(data=df, x='price', y='mileage',s=120,hue='cluster',palette='viridis')\n",
    "plt.legend(ncol=4)\n",
    "plt.title('Scatter plot of milage and horsepower with clusters', fontsize=18);\n",
    "plt.xlabel('price',fontsize=16)\n",
    "plt.ylabel('mileage',fontsize=16);"
   ]
  },
  {
   "cell_type": "markdown",
   "metadata": {},
   "source": [
    "> #### Interestingly, with respect to price clusters speration in mileage is strong enough which is in contrary to what our mentor found that mileage which almost have no separation of clusters"
   ]
  },
  {
   "cell_type": "markdown",
   "metadata": {},
   "source": [
    "### Engine size vs Fuel tank"
   ]
  },
  {
   "cell_type": "code",
   "execution_count": 26,
   "metadata": {
    "execution": {
     "iopub.execute_input": "2022-05-21T03:42:52.414862Z",
     "iopub.status.busy": "2022-05-21T03:42:52.414302Z",
     "iopub.status.idle": "2022-05-21T03:42:52.884970Z",
     "shell.execute_reply": "2022-05-21T03:42:52.883659Z",
     "shell.execute_reply.started": "2022-05-21T03:42:52.414802Z"
    }
   },
   "outputs": [],
   "source": [
    "plt.figure(figsize=(8,6))\n",
    "sns.scatterplot(data=df, x='fuel_tank', y='displacement',s=120,hue='cluster',palette='viridis')\n",
    "plt.legend(ncol=4)\n",
    "plt.title('Scatter plot of milage and horsepower with clusters', fontsize=18);\n",
    "plt.xlabel('Fuel Tank Capacity ',fontsize=16)\n",
    "plt.ylabel('Engine size',fontsize=16);"
   ]
  },
  {
   "cell_type": "markdown",
   "metadata": {},
   "source": [
    "### Now we make an interactive 3D scatter plot of price power, and mileage using also clusters"
   ]
  },
  {
   "cell_type": "code",
   "execution_count": null,
   "metadata": {},
   "outputs": [],
   "source": []
  },
  {
   "cell_type": "code",
   "execution_count": 27,
   "metadata": {
    "_kg_hide-input": true,
    "execution": {
     "iopub.execute_input": "2022-05-21T03:42:52.887814Z",
     "iopub.status.busy": "2022-05-21T03:42:52.886934Z",
     "iopub.status.idle": "2022-05-21T03:42:53.309603Z",
     "shell.execute_reply": "2022-05-21T03:42:53.308531Z",
     "shell.execute_reply.started": "2022-05-21T03:42:52.887748Z"
    }
   },
   "outputs": [],
   "source": [
    "fig = px.scatter_3d(df, x='power', z='price', y='mileage',color='cluster',\n",
    "                    height=700, width=800,color_discrete_sequence=sns.color_palette('colorblind',n_colors=8,desat=1).as_hex(),\n",
    "                   title='price power, and mileage')\n",
    "fig.show()"
   ]
  },
  {
   "cell_type": "markdown",
   "metadata": {},
   "source": [
    "### Now we check the average prices of each cluster"
   ]
  },
  {
   "cell_type": "code",
   "execution_count": 28,
   "metadata": {
    "_kg_hide-input": true,
    "execution": {
     "iopub.execute_input": "2022-05-21T03:42:53.311890Z",
     "iopub.status.busy": "2022-05-21T03:42:53.311284Z",
     "iopub.status.idle": "2022-05-21T03:42:53.592727Z",
     "shell.execute_reply": "2022-05-21T03:42:53.591534Z",
     "shell.execute_reply.started": "2022-05-21T03:42:53.311839Z"
    }
   },
   "outputs": [],
   "source": [
    "plt.figure(figsize=(14,6))\n",
    "sns.barplot(data=df, x= 'cluster', ci= 'sd', y= 'price', palette='viridis',order=df.groupby('cluster')['price'].mean().sort_values(ascending=False).index);\n",
    "plt.yticks([i for i in range(0,65000,5000)])\n",
    "plt.title('Average price of each cluster',fontsize=20)\n",
    "plt.xlabel('Cluster',fontsize=16)\n",
    "plt.ylabel('Avg car price', fontsize=16)\n",
    "plt.xticks(fontsize=14);"
   ]
  },
  {
   "cell_type": "markdown",
   "metadata": {},
   "source": [
    "> #### As shown in the scatter plits earlier there is a clear seperation of clusters when it comes to prices"
   ]
  },
  {
   "cell_type": "markdown",
   "metadata": {},
   "source": [
    "### Now we check how many cars exists in each cluster"
   ]
  },
  {
   "cell_type": "code",
   "execution_count": 29,
   "metadata": {
    "_kg_hide-input": true,
    "execution": {
     "iopub.execute_input": "2022-05-21T03:42:53.595163Z",
     "iopub.status.busy": "2022-05-21T03:42:53.594534Z",
     "iopub.status.idle": "2022-05-21T03:42:53.829344Z",
     "shell.execute_reply": "2022-05-21T03:42:53.828215Z",
     "shell.execute_reply.started": "2022-05-21T03:42:53.595113Z"
    }
   },
   "outputs": [],
   "source": [
    "plt.figure(figsize=(14,6))\n",
    "sns.countplot(data=df, x= 'cluster', palette='viridis',order=df.cluster.value_counts().index);\n",
    "# plt.yticks([i for i in range(0,65000,5000)])\n",
    "plt.title('Number of cars in each cluster',fontsize=18)\n",
    "plt.xlabel('Cluster',fontsize=16)\n",
    "plt.ylabel('Number of cars', fontsize=16)\n",
    "plt.xticks(fontsize=14);"
   ]
  },
  {
   "cell_type": "markdown",
   "metadata": {},
   "source": [
    "> #### We can generally say that even if clusters generated are not determinant yet we can see that they still can be useful "
   ]
  },
  {
   "cell_type": "markdown",
   "metadata": {},
   "source": [
    "# Finding the potential strategic group"
   ]
  },
  {
   "cell_type": "markdown",
   "metadata": {},
   "source": [
    "### first we find the cluster of the Toyota Corolla (and its variants)"
   ]
  },
  {
   "cell_type": "code",
   "execution_count": 38,
   "metadata": {
    "execution": {
     "iopub.execute_input": "2022-05-21T03:48:05.574843Z",
     "iopub.status.busy": "2022-05-21T03:48:05.574394Z",
     "iopub.status.idle": "2022-05-21T03:48:05.733588Z",
     "shell.execute_reply": "2022-05-21T03:48:05.732446Z",
     "shell.execute_reply.started": "2022-05-21T03:48:05.574804Z"
    }
   },
   "outputs": [],
   "source": [
    "df[df.make == 'Maruti Suzuki']"
   ]
  },
  {
   "cell_type": "code",
   "execution_count": 37,
   "metadata": {
    "execution": {
     "iopub.execute_input": "2022-05-21T03:47:47.098310Z",
     "iopub.status.busy": "2022-05-21T03:47:47.097817Z",
     "iopub.status.idle": "2022-05-21T03:47:47.103773Z",
     "shell.execute_reply": "2022-05-21T03:47:47.102550Z",
     "shell.execute_reply.started": "2022-05-21T03:47:47.098270Z"
    }
   },
   "outputs": [],
   "source": [
    "pd.set_option('max_rows',150)"
   ]
  },
  {
   "cell_type": "markdown",
   "metadata": {},
   "source": [
    "### We found that the cluster of the Maruti Suzuki are clusters 2,4 and 6. We can now search these clusters and check what is intersing about it"
   ]
  },
  {
   "cell_type": "code",
   "execution_count": 42,
   "metadata": {
    "_kg_hide-input": true,
    "execution": {
     "iopub.execute_input": "2022-05-21T03:54:28.681129Z",
     "iopub.status.busy": "2022-05-21T03:54:28.680407Z",
     "iopub.status.idle": "2022-05-21T03:54:28.690802Z",
     "shell.execute_reply": "2022-05-21T03:54:28.689363Z",
     "shell.execute_reply.started": "2022-05-21T03:54:28.681068Z"
    }
   },
   "outputs": [],
   "source": [
    "df_c = df[df.cluster.isin([2,4,6])]\n",
    "p_dic = {'Mahindra':'#46327e', 'Tata':'#46327e', 'Toyota':'orange',\n",
    "         'Jeep':'#46327e', 'Honda':'#46327e', 'Kia':'#46327e',\n",
    "         'Hyundai':'#46327e','Skoda':'#46327e'}\n",
    "c_dic = {'Mahindra Scorpio':'#481769', 'Mahindra Xuv500':'#481769', 'Tata Hexa':'#481769',\n",
    "       'Toyota Innova Crysta':'#481769', 'Jeep Compass':'#481769', 'Toyota Corolla Altis':'orange',\n",
    "       'Honda Civic':'#481769', 'Kia Seltos':'#481769', 'Tata Safari Storme':'#481769',\n",
    "       'Hyundai Elantra':'#481769', 'Hyundai Tucson':'#481769', 'Hyundai Creta':'#481769',\n",
    "       'Tata Harrier':'#481769', 'Skoda Octavia':'#481769'}"
   ]
  },
  {
   "cell_type": "markdown",
   "metadata": {},
   "source": [
    "### First we check a sample of these clusters"
   ]
  },
  {
   "cell_type": "code",
   "execution_count": 43,
   "metadata": {
    "execution": {
     "iopub.execute_input": "2022-05-21T03:54:37.503426Z",
     "iopub.status.busy": "2022-05-21T03:54:37.502669Z",
     "iopub.status.idle": "2022-05-21T03:54:37.538632Z",
     "shell.execute_reply": "2022-05-21T03:54:37.537530Z",
     "shell.execute_reply.started": "2022-05-21T03:54:37.503336Z"
    }
   },
   "outputs": [],
   "source": [
    "df_c.sample(8)"
   ]
  },
  {
   "cell_type": "markdown",
   "metadata": {},
   "source": [
    "### Now we check prices and number of cars in these clusters"
   ]
  },
  {
   "cell_type": "code",
   "execution_count": 44,
   "metadata": {
    "_kg_hide-input": true,
    "execution": {
     "iopub.execute_input": "2022-05-21T03:56:51.251133Z",
     "iopub.status.busy": "2022-05-21T03:56:51.250596Z",
     "iopub.status.idle": "2022-05-21T03:56:52.104046Z",
     "shell.execute_reply": "2022-05-21T03:56:52.101455Z",
     "shell.execute_reply.started": "2022-05-21T03:56:51.251088Z"
    }
   },
   "outputs": [],
   "source": [
    "fig = plt.figure(figsize=(24,12))\n",
    "grid =  gridspec.GridSpec(2, 2, figure= fig, hspace= .2, wspace=.2)\n",
    "ax11 = fig.add_subplot(grid[0, 0])\n",
    "ax12 = fig.add_subplot(grid[0, 1])\n",
    "ax21 = fig.add_subplot(grid[1, 0])\n",
    "ax22 = fig.add_subplot(grid[1, 1])\n",
    "order = list(df_c.make.value_counts().index)\n",
    "\n",
    "sns.countplot(data=df_c, x='make', palette=p_dic, alpha= .9,order=order, ax= ax11)\n",
    "ax11.set_title('Car makers in the clusters of the Maruti Suzuki (and each model variant they have)', fontsize=14)\n",
    "ax11.xaxis.set_tick_params(labelsize=14,rotation=0)\n",
    "\n",
    "sns.boxplot(data= df_c, x= 'make', y='price', order=order,palette=p_dic, ax=ax12)\n",
    "ax12.xaxis.set_tick_params(labelsize=14,rotation=0)\n",
    "ax12.set_title('Prices of Car makers (including each model variant they have)', fontsize=14)\n",
    "ax12.set_xlabel('')\n",
    "\n",
    "o2 = list(df_c.car.value_counts(ascending=False).index)\n",
    "sns.countplot(data=df_c, y='car', palette=c_dic, ax=ax21,order= o2)\n",
    "ax21.yaxis.set_tick_params(rotation=0, labelsize=13)\n",
    "ax21.set_title('Number of models\\' variants', fontsize=14)\n",
    "\n",
    "sns.boxplot(data=df_c, y='car', x='price', ax=ax22, order=o2, palette=c_dic )\n",
    "ax22.set_title('Prices of models\\' variants', fontsize=14)\n",
    "ax22.set_yticklabels([])\n",
    "ax22.set_ylabel('');"
   ]
  },
  {
   "cell_type": "markdown",
   "metadata": {},
   "source": [
    "### Here is a more interactive chart that shows cars prices including all variants (with mak and min value of each car)"
   ]
  },
  {
   "cell_type": "code",
   "execution_count": 34,
   "metadata": {
    "execution": {
     "iopub.execute_input": "2022-05-21T03:42:55.320537Z",
     "iopub.status.busy": "2022-05-21T03:42:55.319975Z",
     "iopub.status.idle": "2022-05-21T03:42:55.458929Z",
     "shell.execute_reply": "2022-05-21T03:42:55.457891Z",
     "shell.execute_reply.started": "2022-05-21T03:42:55.320484Z"
    }
   },
   "outputs": [],
   "source": [
    "px.box(data_frame=df_c,x='car',y='price',height=500,  width=800,color='car', color_discrete_sequence=list(c_dic.values()))\n",
    "# fig.update_layout(show)"
   ]
  },
  {
   "cell_type": "markdown",
   "metadata": {},
   "source": [
    "### How about car body types in these clusters?"
   ]
  },
  {
   "cell_type": "code",
   "execution_count": 35,
   "metadata": {
    "execution": {
     "iopub.execute_input": "2022-05-21T03:42:55.461105Z",
     "iopub.status.busy": "2022-05-21T03:42:55.460504Z",
     "iopub.status.idle": "2022-05-21T03:42:55.664158Z",
     "shell.execute_reply": "2022-05-21T03:42:55.663049Z",
     "shell.execute_reply.started": "2022-05-21T03:42:55.461059Z"
    }
   },
   "outputs": [],
   "source": [
    "plt.figure(figsize=(8,6))\n",
    "sns.countplot(data=df_c,x='body_type',palette='viridis')\n",
    "plt.xlabel('Body type',fontsize=16)\n",
    "plt.ylabel('Count of variants',fontsize=16)\n",
    "plt.title('count of each body type in the targeted clusters (including variants)',fontsize=14);"
   ]
  },
  {
   "cell_type": "markdown",
   "metadata": {},
   "source": [
    "> #### seems like there are too many SUV's in the Toyota Clusters, should that be important?"
   ]
  },
  {
   "cell_type": "markdown",
   "metadata": {},
   "source": [
    "# How is that any useful?\n",
    "\n",
    "With clustring there are too many variable taken in considration which are hard to be traced by normal methods.\n",
    "The clusters generated by the KMeans model can be used to identify what is the strategic group that form a strong competition to the company products in the market it also show the close clusters to this group which also can be put in considration in some cases.\n",
    "\n",
    "## Problem with clustring\n",
    "\n",
    "As tempting as it's to use clustring to produce strategic groups it worth mentioning that the clustring process itself is a little bit ambigous and features contribution to the clustering process can't be easily explained so the overall interpretability of the model forms a challenge \n",
    "\n",
    "## So is it worthless?!\n",
    "\n",
    "Absolutely not!, clustring may be not determinant but it can be used to augment the management decision by using it side by side with human intuition to come out with the right strategic group"
   ]
  }
 ],
 "metadata": {
  "kernelspec": {
   "display_name": "Python 3",
   "language": "python",
   "name": "python3"
  },
  "language_info": {
   "codemirror_mode": {
    "name": "ipython",
    "version": 3
   },
   "file_extension": ".py",
   "mimetype": "text/x-python",
   "name": "python",
   "nbconvert_exporter": "python",
   "pygments_lexer": "ipython3",
   "version": "3.7.4"
  }
 },
 "nbformat": 4,
 "nbformat_minor": 4
}
